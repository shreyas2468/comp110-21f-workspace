{
 "cells": [
  {
   "cell_type": "markdown",
   "source": [
    "# PJ01: Student Survey Analysis"
   ],
   "metadata": {}
  },
  {
   "cell_type": "markdown",
   "source": [
    "## Question:\n",
    "\n",
    "Do students majoring in a Statistics and Anayltics (SA) do better than Computer Science (CS) majors in introductory level class such as COMP than Computer Science majors"
   ],
   "metadata": {}
  },
  {
   "cell_type": "markdown",
   "source": [
    "## Hypothesis:\n",
    "\n",
    "Computer Science majors are more likely to do better in introductory level classes such as COMP 110 than Statistics and Analytics majors"
   ],
   "metadata": {}
  },
  {
   "cell_type": "markdown",
   "source": [
    "First, I will read in the CSV file and convert it into a column-oriented data table."
   ],
   "metadata": {}
  },
  {
   "cell_type": "code",
   "execution_count": 1,
   "source": [
    "from data_utils import read_csv_rows, columnar\n",
    "\n",
    "data_rows: list[dict[str, str]] = read_csv_rows('../../data/survey.csv')\n",
    "column: dict[str, list[str]] = columnar(data_rows)"
   ],
   "outputs": [],
   "metadata": {}
  },
  {
   "cell_type": "markdown",
   "source": [
    "Now, I will select the grade column and extract its values, here are the first five rows:"
   ],
   "metadata": {}
  },
  {
   "cell_type": "code",
   "execution_count": 2,
   "source": [
    "from data_utils import head, select\n",
    "\n",
    "grade_sub: dict[str, list[str]] = select(column, [\"comp_major\"])\n",
    "head(grade_sub, 5)"
   ],
   "outputs": [
    {
     "output_type": "execute_result",
     "data": {
      "text/plain": [
       "{'comp_major': ['No', 'No', 'No', 'No', 'No']}"
      ]
     },
     "metadata": {},
     "execution_count": 2
    }
   ],
   "metadata": {}
  },
  {
   "cell_type": "markdown",
   "source": [
    "Now I will select the major column and extract its values. Here are the first five rows:"
   ],
   "metadata": {}
  },
  {
   "cell_type": "code",
   "execution_count": 6,
   "source": [
    "from data_utils import head, select\n",
    "major_sub: dict[str, list[str]] = select(column, [\"major\"])\n",
    "head(major_sub, 5)"
   ],
   "outputs": [
    {
     "output_type": "error",
     "ename": "KeyError",
     "evalue": "'major'",
     "traceback": [
      "\u001b[0;31m---------------------------------------------------------------------------\u001b[0m",
      "\u001b[0;31mKeyError\u001b[0m                                  Traceback (most recent call last)",
      "\u001b[0;32m/var/folders/9x/btkmsc0s6hd6ph1kf3gr6m4m0000gn/T/ipykernel_84112/3285710133.py\u001b[0m in \u001b[0;36m<module>\u001b[0;34m\u001b[0m\n\u001b[1;32m      1\u001b[0m \u001b[0;32mfrom\u001b[0m \u001b[0mdata_utils\u001b[0m \u001b[0;32mimport\u001b[0m \u001b[0mhead\u001b[0m\u001b[0;34m,\u001b[0m \u001b[0mselect\u001b[0m\u001b[0;34m\u001b[0m\u001b[0;34m\u001b[0m\u001b[0m\n\u001b[1;32m      2\u001b[0m \u001b[0;34m\u001b[0m\u001b[0m\n\u001b[0;32m----> 3\u001b[0;31m \u001b[0mmajor_sub\u001b[0m\u001b[0;34m:\u001b[0m \u001b[0mdict\u001b[0m\u001b[0;34m[\u001b[0m\u001b[0mstr\u001b[0m\u001b[0;34m,\u001b[0m \u001b[0mlist\u001b[0m\u001b[0;34m[\u001b[0m\u001b[0mstr\u001b[0m\u001b[0;34m]\u001b[0m\u001b[0;34m]\u001b[0m \u001b[0;34m=\u001b[0m \u001b[0mselect\u001b[0m\u001b[0;34m(\u001b[0m\u001b[0mcolumn\u001b[0m\u001b[0;34m,\u001b[0m \u001b[0;34m[\u001b[0m\u001b[0;34m\"major\"\u001b[0m\u001b[0;34m]\u001b[0m\u001b[0;34m)\u001b[0m\u001b[0;34m\u001b[0m\u001b[0;34m\u001b[0m\u001b[0m\n\u001b[0m\u001b[1;32m      4\u001b[0m \u001b[0mhead\u001b[0m\u001b[0;34m(\u001b[0m\u001b[0mmajor_sub\u001b[0m\u001b[0;34m,\u001b[0m \u001b[0;36m5\u001b[0m\u001b[0;34m)\u001b[0m\u001b[0;34m\u001b[0m\u001b[0;34m\u001b[0m\u001b[0m\n",
      "\u001b[0;32m~/comp110-21f-workspace/projects/pj01/data_utils.py\u001b[0m in \u001b[0;36mselect\u001b[0;34m(table, cols)\u001b[0m\n\u001b[1;32m     46\u001b[0m     \u001b[0mresult\u001b[0m\u001b[0;34m:\u001b[0m \u001b[0mdict\u001b[0m\u001b[0;34m[\u001b[0m\u001b[0mstr\u001b[0m\u001b[0;34m,\u001b[0m \u001b[0mlist\u001b[0m\u001b[0;34m[\u001b[0m\u001b[0mstr\u001b[0m\u001b[0;34m]\u001b[0m\u001b[0;34m]\u001b[0m \u001b[0;34m=\u001b[0m \u001b[0;34m{\u001b[0m\u001b[0;34m}\u001b[0m\u001b[0;34m\u001b[0m\u001b[0;34m\u001b[0m\u001b[0m\n\u001b[1;32m     47\u001b[0m     \u001b[0;32mfor\u001b[0m \u001b[0mcol\u001b[0m \u001b[0;32min\u001b[0m \u001b[0mcols\u001b[0m\u001b[0;34m:\u001b[0m\u001b[0;34m\u001b[0m\u001b[0;34m\u001b[0m\u001b[0m\n\u001b[0;32m---> 48\u001b[0;31m         \u001b[0mresult\u001b[0m\u001b[0;34m[\u001b[0m\u001b[0mcol\u001b[0m\u001b[0;34m]\u001b[0m \u001b[0;34m=\u001b[0m \u001b[0mtable\u001b[0m\u001b[0;34m[\u001b[0m\u001b[0mcol\u001b[0m\u001b[0;34m]\u001b[0m\u001b[0;34m\u001b[0m\u001b[0;34m\u001b[0m\u001b[0m\n\u001b[0m\u001b[1;32m     49\u001b[0m     \u001b[0;32mreturn\u001b[0m \u001b[0mresult\u001b[0m\u001b[0;34m\u001b[0m\u001b[0;34m\u001b[0m\u001b[0m\n\u001b[1;32m     50\u001b[0m \u001b[0;34m\u001b[0m\u001b[0m\n",
      "\u001b[0;31mKeyError\u001b[0m: 'major'"
     ]
    }
   ],
   "metadata": {}
  },
  {
   "cell_type": "markdown",
   "source": [
    "Now I will count the total values for the grade, major columns, and their subsets and store them in constants"
   ],
   "metadata": {}
  },
  {
   "cell_type": "code",
   "execution_count": 7,
   "source": [
    "from data_utils import count\n",
    "\n",
    "grade_total = count(grade_sub['grade'])\n",
    "major_total = count(major_sub['major'])\n",
    "\n",
    "\n",
    "GRADE_TOTAL = grade_total['A'] + grade_total['B']\n",
    "GRA_TOTAL = grade_total['A']\n",
    "MAJOR_TOTAL = major_total['Computer Science'] + major_total['Statistics and Analytics']\n",
    "MAJ_TOTAL = major_total['Computer Science']\n",
    "\n",
    "print(f\"Grade's total is: {GRADE_TOTAL}\")\n",
    "print(f\"A total is: {GRA_TOTAL}\")\n",
    "print(f\"Major total is: {MAJOR_TOTAL}\")\n",
    "print(f\"Computer Science total is: {MAJ_TOTAL}\")"
   ],
   "outputs": [
    {
     "output_type": "error",
     "ename": "KeyError",
     "evalue": "'grade'",
     "traceback": [
      "\u001b[0;31m---------------------------------------------------------------------------\u001b[0m",
      "\u001b[0;31mKeyError\u001b[0m                                  Traceback (most recent call last)",
      "\u001b[0;32m/var/folders/9x/btkmsc0s6hd6ph1kf3gr6m4m0000gn/T/ipykernel_84112/2597246698.py\u001b[0m in \u001b[0;36m<module>\u001b[0;34m\u001b[0m\n\u001b[1;32m      1\u001b[0m \u001b[0;32mfrom\u001b[0m \u001b[0mdata_utils\u001b[0m \u001b[0;32mimport\u001b[0m \u001b[0mcount\u001b[0m\u001b[0;34m\u001b[0m\u001b[0;34m\u001b[0m\u001b[0m\n\u001b[1;32m      2\u001b[0m \u001b[0;34m\u001b[0m\u001b[0m\n\u001b[0;32m----> 3\u001b[0;31m \u001b[0mgrade_total\u001b[0m \u001b[0;34m=\u001b[0m \u001b[0mcount\u001b[0m\u001b[0;34m(\u001b[0m\u001b[0mgrade_sub\u001b[0m\u001b[0;34m[\u001b[0m\u001b[0;34m'grade'\u001b[0m\u001b[0;34m]\u001b[0m\u001b[0;34m)\u001b[0m\u001b[0;34m\u001b[0m\u001b[0;34m\u001b[0m\u001b[0m\n\u001b[0m\u001b[1;32m      4\u001b[0m \u001b[0mmajor_total\u001b[0m \u001b[0;34m=\u001b[0m \u001b[0mcount\u001b[0m\u001b[0;34m(\u001b[0m\u001b[0mmajor_sub\u001b[0m\u001b[0;34m[\u001b[0m\u001b[0;34m'major'\u001b[0m\u001b[0;34m]\u001b[0m\u001b[0;34m)\u001b[0m\u001b[0;34m\u001b[0m\u001b[0;34m\u001b[0m\u001b[0m\n\u001b[1;32m      5\u001b[0m \u001b[0;34m\u001b[0m\u001b[0m\n",
      "\u001b[0;31mKeyError\u001b[0m: 'grade'"
     ]
    }
   ],
   "metadata": {}
  },
  {
   "cell_type": "markdown",
   "source": [
    "Now I will isolate the values from the major_sub and grade_sub dictionaries in the form of lists."
   ],
   "metadata": {}
  },
  {
   "cell_type": "code",
   "execution_count": null,
   "source": [
    "from data_utils import to_list\n",
    "\n",
    "grade_list: list[str] = to_list(grade_sub)\n",
    "major_list: list[str] = to_list(major_sub)"
   ],
   "outputs": [],
   "metadata": {}
  },
  {
   "cell_type": "markdown",
   "source": [
    "Now I will iterate through grade_list and major_list to make four new lists with different combinations of the possible values of columns"
   ],
   "metadata": {}
  },
  {
   "cell_type": "code",
   "execution_count": null,
   "source": [
    "cs_a: int = 0\n",
    "cs_b: int = 0\n",
    "sa_a: int = 0\n",
    "sa_b: int = 0\n",
    "i = 0\n",
    "while i < 502:\n",
    "    if (major_list[i] == 'Computer Science' and grade_list[i] == 'A'):\n",
    "        cs_a += 1\n",
    "        i += 1\n",
    "    elif (major_list[i] == 'Computer Science' and grade_list[i] == 'B'):\n",
    "        cs_b += 1\n",
    "        i += 1\n",
    "    elif (major_list[i] == 'Statistics and Analytics' and grade_list[i] == 'A'):\n",
    "        sa_a += 1\n",
    "        i += 1\n",
    "    elif (major_list[i] == 'Statistics and Analytics' and grade_list[i] == 'B'):\n",
    "        sa_b += 1\n",
    "        i += 1\n",
    "\n",
    "print(f\"Computer science and A count is: {cs_a}\")\n",
    "print(f\"Computer science and B count is: {cs_b}\")\n",
    "print(f\"Statistics and Analytics and A count is: {sa_a}\")\n",
    "print(f\"Statistics and Analytics and B count is: {sa_b}\")"
   ],
   "outputs": [],
   "metadata": {}
  },
  {
   "cell_type": "markdown",
   "source": [
    "Now I will find the percentage of Computer Science students who got an A and the percentage of Statistics and Analytics students who got an A"
   ],
   "metadata": {}
  },
  {
   "cell_type": "code",
   "execution_count": null,
   "source": [
    "cs_percentile: float = cs_a / (cs_a + cs_b)\n",
    "sa_percentile: float = sa_a / (sa_a + sa_b)\n",
    "print(f\"The percentage of Computer Science students who got an A is {round(cs_percentile * 100, 2)} %\")\n",
    "print(f\"The percentage of Statistics and Analytics students who got an A is {round(sa_percentile * 100, 2)} %\")"
   ],
   "outputs": [],
   "metadata": {}
  }
 ],
 "metadata": {
  "orig_nbformat": 4,
  "language_info": {
   "name": "python",
   "version": "3.9.6",
   "mimetype": "text/x-python",
   "codemirror_mode": {
    "name": "ipython",
    "version": 3
   },
   "pygments_lexer": "ipython3",
   "nbconvert_exporter": "python",
   "file_extension": ".py"
  },
  "kernelspec": {
   "name": "python3",
   "display_name": "Python 3.9.6 64-bit"
  },
  "interpreter": {
   "hash": "aee8b7b246df8f9039afb4144a1f6fd8d2ca17a180786b69acc140d282b71a49"
  }
 },
 "nbformat": 4,
 "nbformat_minor": 2
}